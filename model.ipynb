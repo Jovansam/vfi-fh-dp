{
 "cells": [
  {
   "cell_type": "markdown",
   "metadata": {},
   "source": [
    "# Main problem"
   ]
  },
  {
   "cell_type": "markdown",
   "metadata": {},
   "source": [
    "Assume the standard life-cycle labor supply model for a single person,\n",
    "$$\n",
    "\\max_{c_t, L_t, a_{t+1}} \\mathbb{E} \\left[ \\sum_{t=1}^{T} \\beta^{t-1} u(c_{t}, L_{t}) \\right] \\\\\n",
    "\\text{s.t. } c_t + a_{t+1} = w_t(\\xi_t) L_t + a_t(1+r), \\text{ with }a_{1} \\text{ given,}\n",
    "$$"
   ]
  },
  {
   "cell_type": "markdown",
   "metadata": {},
   "source": [
    "where \n",
    "* $c_t$: consumption\n",
    "* $L_t$: labor supply\n",
    "* $a_t$: asset holdings after all actions have been completed in period $t$\n",
    "* $w_t$: wage rate\n",
    "    * $\\xi_t$ is the random component of wages\n",
    "* $r$: interest rate"
   ]
  },
  {
   "cell_type": "markdown",
   "metadata": {},
   "source": [
    "Equivalently,\n",
    "$$\n",
    "\\max_{L_t, a_{t+1}} \\mathbb{E} \\left[ \\sum_{t=1}^T \\beta^{t-1} u(w_t(\\xi_t) L_t + a_t(1+r) - a_{t+1}, L_t) \\right].\n",
    "$$"
   ]
  },
  {
   "cell_type": "markdown",
   "metadata": {},
   "source": [
    "The Bellman equation is\n",
    "$$\n",
    "V_t(a, \\xi) = \\max_{L, a'} u(w_t(\\xi) L + a(1+r) - a', L) + \\beta \\mathbb{E} \\left[ V_{t+1}(a', \\xi') \\mid \\xi \\right] \\quad \\forall t < T,\\\\\n",
    "V_T(a, \\xi) = \\max_{L} u(w_T(\\xi) L + a(1+r), L).\n",
    "$$"
   ]
  },
  {
   "cell_type": "markdown",
   "metadata": {},
   "source": [
    "We assume the following functional form for the utility function\n",
    "$$\n",
    "u(c, L) = \\log(c) + \\log(1 - L).\n",
    "$$"
   ]
  },
  {
   "cell_type": "markdown",
   "metadata": {},
   "source": [
    "## Wage process"
   ]
  },
  {
   "cell_type": "markdown",
   "metadata": {},
   "source": [
    "At each period $t$, the individual receives a wage offer $w_t$\n",
    "$$\n",
    "w_t(\\xi_t) = \\bar{w}_t + \\xi_t,\n",
    "$$\n",
    "where\n",
    "* $\\bar{w}_t$ is a function of age\n",
    "* stochastic component $\\xi_t$ follows an AR(1) process\n",
    "$$\n",
    "\\xi_t = \\rho \\xi_{t-1} + \\varepsilon_t, \\\\\n",
    "\\log \\varepsilon_t \\sim \\mathcal{N}(0, \\sigma_\\varepsilon^2).\n",
    "$$"
   ]
  }
 ],
 "metadata": {
  "@webio": {
   "lastCommId": null,
   "lastKernelId": null
  },
  "kernelspec": {
   "display_name": "Julia 1.1.0",
   "language": "julia",
   "name": "julia-1.1"
  },
  "language_info": {
   "file_extension": ".jl",
   "mimetype": "application/julia",
   "name": "julia",
   "version": "1.1.0"
  }
 },
 "nbformat": 4,
 "nbformat_minor": 2
}
