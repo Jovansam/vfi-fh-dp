{
 "cells": [
  {
   "cell_type": "markdown",
   "metadata": {},
   "source": [
    "# Main problem"
   ]
  },
  {
   "cell_type": "markdown",
   "metadata": {},
   "source": [
    "Assume the standard life-cycle labor supply model for a single person,\n",
    "$$\n",
    "\\max_{c_t, L_t, a_{t+1}} \\mathbb{E}_t \\left[ \\sum_{n=0}^{T-t} \\beta^n u(c_{t+n}, L_{t+n}) \\right] \\\\\n",
    "\\text{s.t. } c_t + a_{t+1} = w_t(\\xi_t) L_t + a_t(1+r), \\text{ with }a_{0} \\text{ given, and } a_T \\geq 0.\n",
    "$$"
   ]
  },
  {
   "cell_type": "markdown",
   "metadata": {},
   "source": [
    "where \n",
    "* $c_t$: consumption\n",
    "* $L_t$: labor supply\n",
    "* $a_t$: asset holdings after all actions have been completed in period $t$\n",
    "* $w_t$: wage rate\n",
    "    * $\\xi_t$ is the random component of wages\n",
    "* $r$: interest rate"
   ]
  },
  {
   "cell_type": "markdown",
   "metadata": {},
   "source": [
    "Equivalently,\n",
    "$$\n",
    "\\max_{L_t, a_{t+1}} \\mathbb{E}_t \\left[ \\sum_{t=0}^T \\beta^t u(w_t(\\xi_t) L_t + a_t(1+r) - a_{t+1}, L_t) \\right].\n",
    "$$"
   ]
  },
  {
   "cell_type": "markdown",
   "metadata": {},
   "source": [
    "The Bellman equation is\n",
    "$$\n",
    "V_t(a_t, \\xi_t) = \\max_{L_t, a_{t+1}} u(w_t(\\xi_t) L_t + a_t(1+r) - a_{t+1}, L_t) + \\beta \\mathbb{E}_t \\left[ V_{t+1}(a_{t+1}, \\xi_{t+1}) \\right].\n",
    "$$"
   ]
  },
  {
   "cell_type": "markdown",
   "metadata": {},
   "source": [
    "We assume the following functional form for the utility function\n",
    "$$\n",
    "u(c_t, L_t) = \\log(c_t) + \\log(1 - L_t).\n",
    "$$"
   ]
  },
  {
   "cell_type": "markdown",
   "metadata": {},
   "source": [
    "## Wage process"
   ]
  },
  {
   "cell_type": "markdown",
   "metadata": {},
   "source": [
    "At each period $t$, the individual receives a wage offer $w_t$\n",
    "$$\n",
    "w_t(\\xi_t) = \\bar{w}_t + \\xi_t,\n",
    "$$\n",
    "where\n",
    "* $\\bar{w}_t$ is a function of age\n",
    "* stochastic component $\\xi_t$ follows an AR(1) process\n",
    "$$\n",
    "\\xi_t = \\pi \\xi_{t-1} + \\varepsilon_t, \\\\\n",
    "\\log \\varepsilon_t \\sim \\mathcal{N}(0, \\sigma_\\varepsilon^2).\n",
    "$$"
   ]
  }
 ],
 "metadata": {
  "@webio": {
   "lastCommId": null,
   "lastKernelId": null
  },
  "kernelspec": {
   "display_name": "Python 3",
   "language": "python",
   "name": "python3"
  },
  "language_info": {
   "codemirror_mode": {
    "name": "ipython",
    "version": 3
   },
   "file_extension": ".py",
   "mimetype": "text/x-python",
   "name": "python",
   "nbconvert_exporter": "python",
   "pygments_lexer": "ipython3",
   "version": "3.7.3"
  }
 },
 "nbformat": 4,
 "nbformat_minor": 2
}
